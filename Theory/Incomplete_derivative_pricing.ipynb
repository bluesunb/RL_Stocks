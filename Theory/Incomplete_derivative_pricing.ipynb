{
 "cells": [
  {
   "cell_type": "markdown",
   "source": [
    "## Complete Market Case\n",
    "1 risky asset, 2 random outcomes\n",
    "\n",
    "$$ V_D^{(0)}={1\\over1+\\gamma}\\left[\\pi(\\omega_1)V_D^{(1)}+\\pi(\\omega_2)V_D^{(2)}\\right] $$\n",
    "\n",
    "이 때 replicating portfolio : $\\theta=(\\theta_0, \\theta_1)$ 에 대해서\n",
    "\n",
    "$$ V_D^{(0)}=\\theta_0+\\theta_1S^{(0)}\\\\ V_D^{(i)}=\\theta_0(1+\\gamma)+\\theta_1S^{(i)} $$\n",
    "\n",
    "$$ \\therefore \\theta_0={1\\over1+\\gamma}\\frac{V_D^{(1)}S^{(2)}-V_D^{(2)}S^{(1)}}{S^{(2)}-S^{(1)}}\\quad\\quad\\quad \\theta_1=\\frac{V_D^{(2)}-V_D^{(1)}}{S^{(2)}-S^{(1)}} $$\n",
    "\n",
    "\n",
    "## Incomplete Market Case\n",
    "1 risky asset, 3 or more random asset\n",
    "\n",
    "### Super/Subhedging\n",
    "\n",
    "- Superhedging\n",
    "    \\begin{aligned}\n",
    "    P_{\\text{sup}}&=\\min_\\theta{\\langle\\theta, S^{(0)}\\rangle}=\\sup_\\pi\\left[{1\\over1+\\gamma}\\pi(\\omega_i)V_D^{(i)}\\right]\n",
    "    \\end{aligned}\n",
    "- Subhedging\n",
    "    \\begin{aligned}\n",
    "    P_{\\text{sub}}&=\\max_\\theta{\\langle\\theta, S^{(0)}\\rangle}=\\inf_\\pi\\left[{1\\over1+\\gamma}\\pi(\\omega_i)V_D^{(i)}\\right]\n",
    "    \\end{aligned}\n",
    "\n"
   ],
   "metadata": {
    "collapsed": false
   }
  },
  {
   "cell_type": "markdown",
   "source": [
    "# Derivative Pricing for Incomplete Market\n",
    "\n",
    "## Maximizing Utility Price\n",
    "- **constraint**\n",
    "    $t=0$에서 derivative $D$에 대한 비용지불 $x$, fundamental asset의 portfolio $\\theta$에 대해서 다음이 성립\n",
    "    \\begin{aligned}\n",
    "    $$ x + \\theta_j S_j^{(0)} $$\n",
    "    \\end{aligned}\n",
    "\n",
    "- Expected Utility\n",
    "    \\begin{aligned}\n",
    "    L(V_D, x, \\theta) = E[U] &= \\sum_{i=0}^n\\mu(\\omega_i)\\cdot U\\left(V_D^{(i)}+\\sum_{j=0}^m\\theta_jS_j^{(i)}\\right) \\\\\n",
    "    &=\\sum_{i=1}^n\\mu(\\omega_i)\\cdot U\\left(V_D^{(i)}-(1+\\gamma)x+\\sum_{j=1}^m\\theta_j\\left[S_j^{(i)}-(1+\\gamma)S_j^{(0)}\\right]\\right)\n",
    "    \\end{aligned}\n",
    "\n",
    "\n",
    "    $$ (\\because \\theta_0S_0^{(0)}=-\\left(x-\\theta_jS_j^{(0)}\\right)) $$\n",
    "\n",
    "- Breakeven value (손익분기점)\n",
    "    손익분기점이 되는 derivative의 spot price $x^* $ 는 다음을 만족\n",
    "    $$ \\max_\\theta{L(V_D, x^*;\\theta)}=\\max_\\theta{L(0,0;\\theta)} $$"
   ],
   "metadata": {
    "collapsed": false
   }
  },
  {
   "cell_type": "markdown",
   "source": [
    "## Simulation\n",
    "- 1 risky asset\n",
    "- price at $t=1$ follows normal distribution $ S \\sim \\mathcal{N}(\\mu, \\sigma^2) $\n",
    "    => more than 2 random outcomes\n",
    "    => incomplete market\n",
    "- Constant Absolute Risk Aversion Utility function\n",
    "    $$ U(y)={1-e^{-ay}\\over a} $$\n",
    "\n",
    "따라서 investment in the risky asset $\\alpha$, investment in the riskless asset $\\beta$, risky asset price $S$, payoff of derivative $f(S)$ 에 대하여,</br>\n",
    "$$\n",
    "x+\\beta + \\alpha S = 0 \\quad\\quad(\\because S_0=1)\\\\\n",
    "\\max_\\alpha E_S \\left[{1-e^{-aL\\left(f(S),x^*;\\alpha\\right)}\\over a\\right] =\n",
    "\\max_\\alpha E_s \\left[{1-e^{-aL\\left(0,0;\\alpha\\right)}\\over a}\\right]\n",
    "$$\n",
    "\n",
    "where,\n",
    "$$L\\left(f(S),x^*;\\alpha\\right)=f(S)-(1+\\gamma)x^*+\\alpha(S-(1+\\gamma)S_0) \\\\\n",
    "L\\left(0,0;\\alpha\\right)=\\alpha(S-(1+\\gamma)S_0)\\\\\n",
    "\\beta(\\leftarrow \\theta_0)  = -\\left(x+\\alpha S_0\\right)$$\n",
    "\n",
    "### Complete Market Price Method\n",
    "\n",
    "$\\alpha$는 investment기 때문에 holding $\\theta$와 부호가 반대로, $ \\theta_1 = -\\alpha = {V^{(2)}-V^{(1)}\\over S^{(2)}-S^{(1)}} $\n",
    "$\\beta$는 $V^{(i)} = \\theta_0(1+\\gamma) + \\theta_1 S^{(i)}$ 로 부터, $\\beta=-{V^{(i)}+\\alpha S^{(i)}\\over1+\\gamma}$\n",
    "\n",
    "`class MaxExpUtility`\n",
    "- `risky_spot` : $S_0$\n",
    "- `riskless_rate` : $\\gamma$\n",
    "- `risky_mean` : $\\mu$\n",
    "- `risky_stdev` : $\\sigma$\n",
    "- `payoff_func` : $f$"
   ],
   "metadata": {
    "collapsed": false
   }
  },
  {
   "cell_type": "code",
   "execution_count": null,
   "outputs": [],
   "source": [
    "import numpy as np\n",
    "\n",
    "from typing import Callable, Mapping\n",
    "from dataclasses import dataclass\n",
    "from scipy.integrate import quad\n",
    "from scipy.stats import norm\n",
    "from scipy.optimize import minimize_scalar, root_scalar\n",
    "\n",
    "@dataclass(frozen=True)\n",
    "class MaxExpUtility:\n",
    "    risky_spot: float\n",
    "    riskless_rate: float\n",
    "    risky_mean: float\n",
    "    risky_stdev: float\n",
    "    payoff_func: Callable[[float], float]\n",
    "\n",
    "    def complete_market_price(self) -> Mapping[str, float]:\n",
    "        \"\"\"\n",
    "        price changed to \\mu+\\sigma, \\mu-\\sigma with same possibility\n",
    "        \"\"\"\n",
    "        x1 = self.risky_mean - self.risky_stdev\n",
    "        x2 = self.risky_mean + self.risky_stdev\n",
    "        v1 = self.payoff_func(x1)\n",
    "        v2 = self.payoff_func(x2)\n",
    "        alpha = -(v2 - v1)/(x2- x1)     # -theta_1\n",
    "        beta = -(v2+alpha*x2)/(1+self.riskless_rate)    # -theta_0\n",
    "        price = -(beta + alpha*self.risky_spot)\n",
    "\n",
    "        return {'price': price, 'alpha': alpha, 'beta': beta}\n",
    "\n",
    "    def max_expected_utility_price_with_zero(self, c: float, risk_aversion: float) -> Mapping[str, float]:\n",
    "        \"\"\"\n",
    "        calculate max value for given position by maximizing the expected utility\n",
    "        :param c: initial derivative price\n",
    "        :param risk_aversion:  risk aversion param for CARA utility function\n",
    "        :return:  max return value for given position\n",
    "        \"\"\"\n",
    "        riskless_coeff = 1 + self.riskless_rate\n",
    "        mu, sigma, spot = self.risky_mean, self.risky_stdev, self.risky_spot\n",
    "        alpha = (mu - riskless_coeff*spot) / (risk_aversion * sigma**2)\n",
    "        beta = - (c + alpha * spot)\n",
    "        max_val = (1-np.exp(-risk_aversion*(\n",
    "            -riskless_coeff*c+alpha*(mu-riskless_coeff*spot)+(risk_aversion*alpha*sigma)**2/2\n",
    "        ))) / risk_aversion\n",
    "\n",
    "        return {'max_val': max_val, 'alpha': alpha, 'beta': beta}\n",
    "\n",
    "    def max_expected_utility_price(self, c: float, risk_aversion: float, payoff_fun: Callable[[float], float]=None):\n",
    "        \"\"\"\n",
    "        calculate max value for given position with arbitrary payoff function\n",
    "        :param c: initial derivative price\n",
    "        :param risk_aversion:  risk aversion param for CARA utility function\n",
    "        :param payoff_fun: payoff fnction\n",
    "        :return:\n",
    "        \"\"\"\n",
    "        if payoff_fun is None:\n",
    "            return self.max_expected_utility_price(c, risk_aversion)\n",
    "\n",
    "        mu, sigma, spot = self.risky_mean, self.risky_stdev, self.risky_spot\n",
    "        riskless_coeff = 1 + self.riskless_rate\n",
    "\n",
    "        lb = mu - sigma*6   # lower bound, 6-sigma\n",
    "        ub = mu + sigma*6   # upper bound, 6-sigma\n",
    "\n",
    "        def expectation(alpha):\n",
    "\n",
    "            def integrand(s):\n",
    "                # total payoff\n",
    "                total_payoff = payoff_fun(s) - riskless_coeff*c + alpha*(s-riskless_coeff*spot)\n",
    "                utility = (1-np.exp(-risk_aversion * total_payoff))/risk_aversion\n",
    "                return norm.pdf(s, mu, sigma**2) * utility\n",
    "\n",
    "            return"
   ],
   "metadata": {
    "collapsed": false,
    "pycharm": {
     "name": "#%%\n"
    }
   }
  },
  {
   "cell_type": "code",
   "execution_count": null,
   "outputs": [],
   "source": [],
   "metadata": {
    "collapsed": false,
    "pycharm": {
     "name": "#%%\n"
    }
   }
  }
 ],
 "metadata": {
  "kernelspec": {
   "display_name": "Python 3",
   "language": "python",
   "name": "python3"
  },
  "language_info": {
   "codemirror_mode": {
    "name": "ipython",
    "version": 2
   },
   "file_extension": ".py",
   "mimetype": "text/x-python",
   "name": "python",
   "nbconvert_exporter": "python",
   "pygments_lexer": "ipython2",
   "version": "2.7.6"
  }
 },
 "nbformat": 4,
 "nbformat_minor": 0
}