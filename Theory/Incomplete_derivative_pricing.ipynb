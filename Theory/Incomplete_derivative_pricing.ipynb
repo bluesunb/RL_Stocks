{
 "cells": [
  {
   "cell_type": "markdown",
   "metadata": {
    "collapsed": false
   },
   "source": [
    "## Complete Market Case\n",
    "1 risky asset, 2 random outcomes\n",
    "\n",
    "$$ V_D^{(0)}={1\\over1+\\gamma}\\left[\\pi(\\omega_1)V_D^{(1)}+\\pi(\\omega_2)V_D^{(2)}\\right] $$\n",
    "\n",
    "이 때 replicating portfolio : $\\theta=(\\theta_0, \\theta_1)$ 에 대해서\n",
    "\n",
    "$$ V_D^{(0)}=\\theta_0+\\theta_1S^{(0)}\\\\ V_D^{(i)}=\\theta_0(1+\\gamma)+\\theta_1S^{(i)} $$\n",
    "\n",
    "$$ \\therefore \\theta_0={1\\over1+\\gamma}\\frac{V_D^{(1)}S^{(2)}-V_D^{(2)}S^{(1)}}{S^{(2)}-S^{(1)}}\\quad\\quad\\quad \\theta_1=\\frac{V_D^{(2)}-V_D^{(1)}}{S^{(2)}-S^{(1)}} $$\n",
    "\n",
    "\n",
    "## Incomplete Market Case\n",
    "1 risky asset, 3 or more random asset\n",
    "\n",
    "### Super/Subhedging\n",
    "\n",
    "- Superhedging\n",
    "    \\begin{aligned}\n",
    "    P_{\\text{sup}}&=\\min_\\theta{\\langle\\theta, S^{(0)}\\rangle}=\\sup_\\pi\\left[{1\\over1+\\gamma}\\pi(\\omega_i)V_D^{(i)}\\right]\n",
    "    \\end{aligned}\n",
    "- Subhedging\n",
    "    \\begin{aligned}\n",
    "    P_{\\text{sub}}&=\\max_\\theta{\\langle\\theta, S^{(0)}\\rangle}=\\inf_\\pi\\left[{1\\over1+\\gamma}\\pi(\\omega_i)V_D^{(i)}\\right]\n",
    "    \\end{aligned}\n",
    "\n"
   ]
  },
  {
   "cell_type": "markdown",
   "metadata": {
    "collapsed": false
   },
   "source": [
    "# Derivative Pricing for Incomplete Market\n",
    "\n",
    "## Maximizing Utility Price\n",
    "- **constraint**\n",
    "    $t=0$에서 derivative $D$에 대한 비용지불 $x$, fundamental asset의 portfolio $\\theta$에 대해서 다음이 성립\n",
    "    \n",
    "    \\begin{aligned}\n",
    "    x + \\theta_j S_j^{(0)}\n",
    "    \\end{aligned}\n",
    "\n",
    "- Expected Utility\n",
    "    \\begin{aligned}\n",
    "    L(V_D, x, \\theta) = E[U] &= \\sum_{i=0}^n\\mu(\\omega_i)\\cdot U\\left(V_D^{(i)}+\\sum_{j=0}^m\\theta_jS_j^{(i)}\\right) \\\\\n",
    "    &=\\sum_{i=1}^n\\mu(\\omega_i)\\cdot U\\left(V_D^{(i)}-(1+\\gamma)x+\\sum_{j=1}^m\\theta_j\\left[S_j^{(i)}-(1+\\gamma)S_j^{(0)}\\right]\\right)\n",
    "    \\end{aligned}\n",
    "\n",
    "    \\begin{aligned}\n",
    "    (\\because \\theta_0S_0^{(0)}=-\\left(x-\\theta_jS_j^{(0)}\\right))\n",
    "    \\end{aligned}\n",
    "\n",
    "- Breakeven value (손익분기점)\n",
    "    손익분기점이 되는 derivative의 spot price $x^* $ 는 다음을 만족\n",
    "    $$ \\max_\\theta{L(V_D, x^*;\\theta)}=\\max_\\theta{L(0,0;\\theta)} $$"
   ]
  },
  {
   "cell_type": "markdown",
   "metadata": {
    "collapsed": false
   },
   "source": [
    "## Simulation\n",
    "- 1 risky asset\n",
    "- price at $t=1$ follows normal distribution $ S \\sim \\mathcal{N}(\\mu, \\sigma^2) $\n",
    "    => more than 2 random outcomes\n",
    "    => incomplete market\n",
    "- Constant Absolute Risk Aversion Utility function\n",
    "    $$ U(y)={1-e^{-ay}\\over a} $$\n",
    "\n",
    "따라서 investment in the risky asset $\\alpha$, investment in the riskless asset $\\beta$, risky asset price $S$, payoff of derivative $f(S)$ 에 대하여,\n",
    "\n",
    "\\begin{gather}\n",
    "x+\\beta + \\alpha S_0 = 0 \\quad\\quad(\\because S_0=1)\\\\\n",
    "\\max_\\alpha E_S \\left[{1-e^{-aL\\left(f(S),x^*;\\alpha\\right)}\\over a}\\right] = \n",
    "\\max_\\alpha E_s \\left[{1-e^{-aL\\left(0,0;\\alpha\\right)}\\over a}\\right]\n",
    "\\end{gather}\n",
    "\n",
    "where,\n",
    "\n",
    "\\begin{aligned}\n",
    "&L\\left(f(S),x^*;\\alpha\\right)=f(S)-(1+\\gamma)x^*+\\alpha(S-(1+\\gamma)S_0) \\\\\n",
    "&L\\left(0,0;\\alpha\\right)=\\alpha(S-(1+\\gamma)S_0)\\\\\n",
    "&\\beta  = -\\left(x+\\alpha S_0\\right)\n",
    "\\end{aligned}\n",
    "\n",
    "\n",
    "`class MaxExpUtility`\n",
    "- `risky_spot` : $S_0$\n",
    "- `riskless_rate` : $\\gamma$\n",
    "- `risky_mean` : $\\mu$\n",
    "- `risky_stdev` : $\\sigma$\n",
    "- `payoff_func` : $f$\n",
    "\n",
    "### Complete Market Price Method\n",
    "\n",
    "$\\alpha$는 investment기 때문에 holding $\\theta$와 부호가 반대로, $ \\theta_1 = -\\alpha = {V^{(2)}-V^{(1)}\\over S^{(2)}-S^{(1)}} $\n",
    "$\\beta$는 $V^{(i)} = \\theta_0(1+\\gamma) + \\theta_1 S^{(i)}$ 로 부터, $\\beta=-{V^{(i)}+\\alpha S^{(i)}\\over1+\\gamma}$\n",
    "\n",
    "### Max Expected Utility Value Method (0-payoff)\n",
    "\n",
    "- total payoff\n",
    "    $$ y=\\beta S_0 + \\alpha S = -(1+\\gamma)c + \\alpha(S-(1+\\gamma)S_0)$$\n",
    "\n",
    "따라서 최종 price는 expected utility를 최대화 하는 값으로 찾는다.\n",
    "\n",
    "$$ \\max_\\alpha {E\\left[U\\left({1-\\exp{-ay_\\alpha(0, c)}\\over a}\\right)\\right]} $$\n",
    "\n",
    "이 때,\n",
    "$$ \\alpha^*={\\mu-(1+\\gamma)S_0 \\over a\\sigma^2} \\\\ \\beta^* = -(c+\\alpha^* S_0)$$\n",
    "\n",
    "### Max Expected Utility Value Method\n",
    "\\begin{aligned}\n",
    "\\max_\\alpha {E\\left[U\\left({1-e^{-ay(f(s), c)}\\over a}\\right)\\right]}=\\max_\\alpha {E\\left[U\\left({1-e^{-ay(0, 0)}\\over a}\\right)\\right]}\n",
    "\\end{aligned}"
   ]
  },
  {
   "cell_type": "code",
   "execution_count": 1,
   "outputs": [],
   "source": [
    "import time\n",
    "def timer(fun):\n",
    "    def wrapper(*args, **kwargs):\n",
    "        start = time.time()\n",
    "        res = fun(*args, **kwargs)\n",
    "        eta = time.time() - start\n",
    "        print(f'{fun.__name__} takes : {round(eta, 6)}s')\n",
    "        return res\n",
    "    return wrapper"
   ],
   "metadata": {
    "collapsed": false,
    "pycharm": {
     "name": "#%%\n"
    }
   }
  },
  {
   "cell_type": "code",
   "execution_count": 2,
   "metadata": {
    "collapsed": false,
    "pycharm": {
     "name": "#%%\n"
    }
   },
   "outputs": [],
   "source": [
    "import numpy as np\n",
    "\n",
    "from dataclasses import dataclass\n",
    "from typing import Callable\n",
    "from scipy.stats import norm\n",
    "from scipy.integrate import quad\n",
    "from scipy.optimize import minimize_scalar, root_scalar\n",
    "\n",
    "@dataclass(frozen=True)\n",
    "class SimpleSimulation:\n",
    "    risky_spot: float\n",
    "    risky_mean: float\n",
    "    risky_std: float\n",
    "    riskless_rate: float\n",
    "    payoff_fun: Callable[[float], float]\n",
    "\n",
    "    def _total_return(self, c, alpha, payoff_fun=None):\n",
    "        if payoff_fun is None:\n",
    "            payoff_fun = self.payoff_fun\n",
    "\n",
    "        riskless_coeff = 1 + self.riskless_rate\n",
    "        return lambda s: payoff_fun(s) - \\\n",
    "                         riskless_coeff * c + alpha*(s - riskless_coeff*self.risky_spot)\n",
    "\n",
    "    def _normal(self, x, mu, sigma):\n",
    "        factor = 1/np.sqrt(2*np.pi)/sigma\n",
    "        return factor * np.exp(-(x-mu)**2/(2*sigma**2))\n",
    "\n",
    "    # @timer\n",
    "    def complete_market_price(self):\n",
    "        x1 = self.risky_mean - self.risky_std\n",
    "        x2 = self.risky_mean + self.risky_std\n",
    "        v1 = self.payoff_fun(x1)\n",
    "        v2 = self.payoff_fun(x2)\n",
    "        alpha = -(v2 - v1)/(x2 - x1)\n",
    "        beta = -(v2+alpha*x2)/(1+self.riskless_rate)\n",
    "        price = -(beta + alpha*self.risky_spot)\n",
    "\n",
    "        return {'price': price, 'alpha': alpha, 'beta': beta}\n",
    "\n",
    "    # @timer\n",
    "    def max_expected_utility_zero(self, current_price, risky_aversion):\n",
    "        riskless_coeff = 1 + self.riskless_rate\n",
    "        mu, sigma, spot = self.risky_mean, self.risky_std, self.risky_spot\n",
    "        alpha = (mu - riskless_coeff*spot)/(risky_aversion*sigma**2)\n",
    "        beta = -(current_price+alpha*spot)\n",
    "        max_val = (1-np.exp(\n",
    "            -risky_aversion*(-riskless_coeff*current_price +\n",
    "                             alpha*(mu - riskless_coeff*spot))\n",
    "            + (risky_aversion * alpha* sigma)**2/2\n",
    "        )) / risky_aversion\n",
    "        return {'max_val': max_val, 'alpha': alpha, 'beta': beta}\n",
    "\n",
    "    # @timer\n",
    "    def max_expected_utility(self, current_price, risk_aversion, payoff_fun=None, num=0):\n",
    "        if payoff_fun == 'zero':\n",
    "            return self.max_expected_utility_zero(current_price, risk_aversion)\n",
    "        if payoff_fun is None:\n",
    "            payoff_fun = self.payoff_fun\n",
    "\n",
    "        mu, sigma, spot = self.risky_mean, self.risky_std, self.risky_spot\n",
    "        riskless_coeff = self.riskless_rate + 1\n",
    "\n",
    "        lb = mu - sigma*6\n",
    "        ub = mu + sigma*6\n",
    "        norm_gap = norm.cdf(ub) - norm.cdf(lb)\n",
    "        factor = 1/np.sqrt(2*np.pi)/sigma\n",
    "\n",
    "        def expected_utility0(alpha):\n",
    "            def integrand(s):\n",
    "                payoff = self._total_return(current_price, alpha, payoff_fun)(s)\n",
    "                utility = (1-np.exp(-risk_aversion*payoff))/risk_aversion\n",
    "                return factor * np.exp(-(s-mu)**2/(2*sigma**2)) * utility\n",
    "            return -quad(integrand, lb, ub)[0]\n",
    "\n",
    "        def expected_utility1(alpha):\n",
    "            def integrand(s):\n",
    "                payoff = payoff_fun(s) - \\\n",
    "                         riskless_coeff * current_price + alpha * (s - riskless_coeff * spot)\n",
    "                exponent = -(0.5 * (s - mu)**2 / (sigma**2)\n",
    "                             + risk_aversion * payoff)\n",
    "                return (1 - factor * np.exp(exponent)) / risk_aversion\n",
    "            return -quad(integrand, lb, ub)[0]\n",
    "\n",
    "        def expected_utility2(alpha):\n",
    "            def integrand(s):\n",
    "                payoff = self._total_return(current_price, alpha, payoff_fun)(s)\n",
    "                exponent = -risk_aversion * payoff - (s-mu)**2/(2*sigma**2)\n",
    "                return np.exp(exponent)\n",
    "            return -(norm_gap - factor*quad(integrand, lb, ub)[0])/risk_aversion\n",
    "\n",
    "        funs = [expected_utility0, expected_utility1, expected_utility2]\n",
    "        res = minimize_scalar(funs[num])\n",
    "        alpha = res['x']\n",
    "        beta = - (current_price + alpha*spot)\n",
    "        max_val = res['fun']\n",
    "\n",
    "        return {'max_val': max_val, 'alpha': alpha, 'beta': beta}\n",
    "\n",
    "    # @timer\n",
    "    def max_expected_utility0(self, current_price, risk_aversion, payoff_fun=None):\n",
    "        if payoff_fun == 'zero':\n",
    "            return self.max_expected_utility_zero(current_price, risk_aversion)\n",
    "        if payoff_fun is None:\n",
    "            payoff_fun = self.payoff_fun\n",
    "\n",
    "        mu, sigma, spot = self.risky_mean, self.risky_std, self.risky_spot\n",
    "        riskless_coeff = self.riskless_rate + 1\n",
    "\n",
    "        lb = mu - sigma*6\n",
    "        ub = mu + sigma*6\n",
    "        factor = 1/np.sqrt(2 * np.pi)/sigma\n",
    "        norm_gap = norm.cdf(ub) - norm.cdf(lb)\n",
    "\n",
    "        def expected_utility(alpha):\n",
    "            def integrand(s):\n",
    "                payoff = self.payoff_fun(s) - riskless_coeff*current_price + alpha*(s-riskless_coeff*spot)\n",
    "                exponent = -(0.5 * (s - mu)**2/sigma**2 + risk_aversion*payoff)\n",
    "                return factor * np.exp(exponent)\n",
    "            return -(norm_gap - quad(integrand, lb, ub)[0])/risk_aversion\n",
    "\n",
    "        res = minimize_scalar(expected_utility)\n",
    "        alpha = res['x']\n",
    "        beta = - (current_price + alpha*spot)\n",
    "        max_val = res['fun']\n",
    "\n",
    "        return {'max_val': max_val, 'alpha': alpha, 'beta': beta}\n",
    "\n",
    "    # @timer\n",
    "    def max_expected_utility_price(self, risky_aversion, num=0):\n",
    "        zero_max_val = self.max_expected_utility_zero(0, risky_aversion)['max_val']\n",
    "        max_val_eq = lambda x: self.max_expected_utility(x, risky_aversion, num=num)['max_val'] - zero_max_val\n",
    "\n",
    "        lb = self.risky_mean - 10 * self.risky_std\n",
    "        ub = self.risky_mean + 10 * self.risky_std\n",
    "        # payoff_vals = self.payoff_fun(np.linspace(lb, ub, 1000))\n",
    "        payoff_vals = [sim.payoff_fun(x) for x in np.linspace(lb, ub, 1000)]\n",
    "        a,b = min(payoff_vals), max(payoff_vals)\n",
    "\n",
    "        optimal_price = root_scalar(max_val_eq, bracket=[a,b]).root\n",
    "        hedges = self.max_expected_utility(optimal_price, risky_aversion)\n",
    "        alpha = hedges['alpha']\n",
    "        beta = hedges['beta']\n",
    "        return {'price': optimal_price, 'alpha': alpha, 'beta': beta}\n"
   ]
  },
  {
   "cell_type": "markdown",
   "source": [
    "### Test\n",
    "\n",
    "- initial risky price : $S_0$ = 100\n",
    "- riskless rate : $5%$\n",
    "- mean price of risky asset : $ 110$\n",
    "- stdev of risky asset price : $ 25 $\n",
    "- strick price : 105"
   ],
   "metadata": {
    "collapsed": false
   }
  },
  {
   "cell_type": "code",
   "execution_count": 3,
   "outputs": [],
   "source": [
    "sim = SimpleSimulation(risky_spot=100,\n",
    "                       risky_mean=110,\n",
    "                       risky_std=25,\n",
    "                       riskless_rate=0.05,\n",
    "                       # payoff_fun=lambda x: np.clip(x-105, 0, None))\n",
    "                       payoff_fun=lambda x: max(x-105, 0))"
   ],
   "metadata": {
    "collapsed": false,
    "pycharm": {
     "name": "#%%\n"
    }
   }
  },
  {
   "cell_type": "markdown",
   "source": [
    "### complete market case\n",
    "\n",
    "- $\\alpha = -0.6$\n",
    "- $\\beta = 48.57 $\n",
    "- $ x = 11.43 $\n",
    "\n",
    "call option에 대한 hedging으로 risky asset의 0.6 unit만큼을 공매도하고\n",
    "그 수익 60$ 중 안전자산의 48.57 unit 만큼을 투자한다. (이 때 안전자산의 이자율 = 5%) 남은 자산으로 11.42$ 어치의 call option을 보유한다."
   ],
   "metadata": {
    "collapsed": false
   }
  },
  {
   "cell_type": "code",
   "execution_count": 4,
   "outputs": [
    {
     "data": {
      "text/plain": "{'price': 11.42857142857143, 'alpha': -0.6, 'beta': 48.57142857142857}"
     },
     "execution_count": 4,
     "metadata": {},
     "output_type": "execute_result"
    }
   ],
   "source": [
    "sim.complete_market_price()"
   ],
   "metadata": {
    "collapsed": false,
    "pycharm": {
     "name": "#%%\n"
    }
   }
  },
  {
   "cell_type": "markdown",
   "source": [
    "### incomplete market case\n",
    "\n",
    "risk aversion $ a$가 커질수록 call option 가격, risky asset에 대한 investment가 줄어드는 것을 볼 수 있다."
   ],
   "metadata": {
    "collapsed": false,
    "pycharm": {
     "name": "#%% md\n"
    }
   }
  },
  {
   "cell_type": "code",
   "execution_count": 5,
   "outputs": [
    {
     "name": "stdout",
     "output_type": "stream",
     "text": [
      "--- num: 0 ---\n",
      "{'price': 5.233821338308665, 'alpha': -0.4733333333496044, 'beta': 42.09951199665178}\n",
      "--- num: 1 ---\n",
      "{'price': 23.279029745490945, 'alpha': -0.47333333333239613, 'beta': 24.05430358774867}\n",
      "--- num: 2 ---\n",
      "{'price': 5.233821345134001, 'alpha': -0.4733333333240041, 'beta': 42.09951198726641}\n"
     ]
    }
   ],
   "source": [
    "for num in range(3):\n",
    "    print(f'--- num: {num} ---')\n",
    "    print(sim.max_expected_utility_price(0.3, num=num))"
   ],
   "metadata": {
    "collapsed": false,
    "pycharm": {
     "name": "#%%\n"
    }
   }
  },
  {
   "cell_type": "code",
   "execution_count": 6,
   "outputs": [
    {
     "name": "stdout",
     "output_type": "stream",
     "text": [
      "--- aversion: 0.3 ---\n",
      "{'price': 5.233821338308665, 'alpha': -0.4733333333496044, 'beta': 42.09951199665178}\n",
      "--- aversion: 0.6 ---\n",
      "{'price': 3.6465897634422317, 'alpha': -0.4866666666801595, 'beta': 45.02007690457372}\n",
      "--- aversion: 0.9 ---\n",
      "{'price': 2.850283845033683, 'alpha': -0.4911111111429401, 'beta': 46.26082726926033}\n"
     ]
    }
   ],
   "source": [
    "aversions = [.3, .6, .9]\n",
    "for aversion in aversions:\n",
    "    print(f'--- aversion: {aversion} ---')\n",
    "    print(sim.max_expected_utility_price(aversion))"
   ],
   "metadata": {
    "collapsed": false,
    "pycharm": {
     "name": "#%%\n"
    }
   }
  },
  {
   "cell_type": "code",
   "execution_count": null,
   "outputs": [],
   "source": [],
   "metadata": {
    "collapsed": false,
    "pycharm": {
     "name": "#%%\n"
    }
   }
  }
 ],
 "metadata": {
  "kernelspec": {
   "display_name": "Python 3",
   "language": "python",
   "name": "python3"
  },
  "language_info": {
   "codemirror_mode": {
    "name": "ipython",
    "version": 2
   },
   "file_extension": ".py",
   "mimetype": "text/x-python",
   "name": "python",
   "nbconvert_exporter": "python",
   "pygments_lexer": "ipython2",
   "version": "2.7.6"
  }
 },
 "nbformat": 4,
 "nbformat_minor": 0
}