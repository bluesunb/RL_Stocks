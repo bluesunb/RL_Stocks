{
 "cells": [
  {
   "cell_type": "code",
   "execution_count": 7,
   "metadata": {
    "collapsed": true,
    "pycharm": {
     "name": "#%%\n"
    }
   },
   "outputs": [],
   "source": [
    "import numpy as np\n",
    "import matplotlib.pyplot as plt\n",
    "\n",
    "from scipy.integrate import odeint\n",
    "from deep_hedging import BinOptionTree"
   ]
  },
  {
   "cell_type": "code",
   "execution_count": 10,
   "outputs": [],
   "source": [
    "bintree = BinOptionTree(spot_price=1, exercise_price=1, factor=1.2, up_p=0.5, riskless_rate=0.)\n",
    "expiry = 150\n",
    "for i in range(expiry):\n",
    "    bintree.expand_underlying()"
   ],
   "metadata": {
    "collapsed": false,
    "pycharm": {
     "name": "#%%\n"
    }
   }
  },
  {
   "cell_type": "code",
   "execution_count": 11,
   "outputs": [
    {
     "data": {
      "text/plain": "[753679854845.0431,\n 523388788086.5299,\n 363464436170.8958,\n 252405858451.70544,\n 175281846146.71213,\n 121723504268.24454,\n 84530211297.08649,\n 58701535622.67118,\n 40764955293.2161,\n 28308996731.094517,\n 19659025507.39897,\n 13652101046.499287,\n 9480625726.430061,\n 6583767865.270877,\n 4572061017.243665,\n 3175042372.780323,\n 2204890536.347447,\n 1531173983.2690606,\n 1063315265.8535144,\n 738413378.7593851,\n 512787068.27735084,\n 356102130.4426048,\n 247293145.83514223,\n 171731350.9688488,\n 119257882.31170055,\n 82817973.52201428,\n 57512481.30695436,\n 39939222.82427386,\n 27735571.100190185,\n 19260812.95846541,\n 13375564.248934312,\n 9288585.978426605,\n 6450406.623907365,\n 4479448.738824559,\n 3110727.985294833,\n 2160227.4620103007,\n 1500157.65417382,\n 1041775.843176264,\n 723455.1410946278,\n 502399.0979823805,\n 348887.9569322087,\n 242282.99786958937,\n 168251.77629832597,\n 116841.20576272639,\n 81139.42066856,\n 56346.51435316667,\n 39129.218300810186,\n 27172.762708895963,\n 18869.66854784442,\n 13103.63093600307,\n 9099.438150002134,\n 6318.74871527926,\n 4387.714385610598,\n 3046.718323340693,\n 2115.4710578754816,\n 1468.7715679690846,\n 1019.6746999785311,\n 707.8018749850911,\n 491.2235242952022,\n 340.82189187166824,\n 236.37631379976963,\n 163.84466236095113,\n 113.47545997288275,\n 78.4968472033908,\n 54.20614389124362,\n 37.33759992447474,\n 25.623333280885237,\n 17.488425889503638,\n 11.83918464548864,\n 7.916100448256,\n 5.1917364224,\n 3.2998169600000002,\n 1.9859840000000002,\n 1.0736000000000003,\n 0.4400000000000004,\n 4.440892098500626e-16,\n 0,\n 0,\n 0,\n 0,\n 0,\n 0,\n 0,\n 0,\n 0,\n 0,\n 0,\n 0,\n 0,\n 0,\n 0,\n 0,\n 0,\n 0,\n 0,\n 0,\n 0,\n 0,\n 0,\n 0,\n 0,\n 0,\n 0,\n 0,\n 0,\n 0,\n 0,\n 0,\n 0,\n 0,\n 0,\n 0,\n 0,\n 0,\n 0,\n 0,\n 0,\n 0,\n 0,\n 0,\n 0,\n 0,\n 0,\n 0,\n 0,\n 0,\n 0,\n 0,\n 0,\n 0,\n 0,\n 0,\n 0,\n 0,\n 0,\n 0,\n 0,\n 0,\n 0,\n 0,\n 0,\n 0,\n 0,\n 0,\n 0,\n 0,\n 0,\n 0,\n 0,\n 0,\n 0]"
     },
     "execution_count": 11,
     "metadata": {},
     "output_type": "execute_result"
    }
   ],
   "source": [
    "bintree.option_prices[-1]"
   ],
   "metadata": {
    "collapsed": false,
    "pycharm": {
     "name": "#%%\n"
    }
   }
  },
  {
   "cell_type": "code",
   "execution_count": null,
   "outputs": [],
   "source": [
    "def d1(spot_price, exercise_price, riskless_rate, )"
   ],
   "metadata": {
    "collapsed": false,
    "pycharm": {
     "name": "#%%\n"
    }
   }
  }
 ],
 "metadata": {
  "kernelspec": {
   "display_name": "Python 3",
   "language": "python",
   "name": "python3"
  },
  "language_info": {
   "codemirror_mode": {
    "name": "ipython",
    "version": 2
   },
   "file_extension": ".py",
   "mimetype": "text/x-python",
   "name": "python",
   "nbconvert_exporter": "python",
   "pygments_lexer": "ipython2",
   "version": "2.7.6"
  }
 },
 "nbformat": 4,
 "nbformat_minor": 0
}