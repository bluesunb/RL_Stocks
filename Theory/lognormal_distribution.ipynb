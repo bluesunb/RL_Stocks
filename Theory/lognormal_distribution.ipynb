{
 "cells": [
  {
   "cell_type": "markdown",
   "source": [
    "# Lognormal Distribution\n",
    "$$ dS = \\mu S dt + \\sigma S dz $$\n",
    "$$ ln S \\sim \\mathcal{N} $$\n",
    "\n",
    "이 때,\n",
    "$$ E[ln S] = \\mu t \\quad \\quad V[ln S]=\\sigma^2 t $$"
   ],
   "metadata": {
    "collapsed": false
   }
  },
  {
   "cell_type": "code",
   "execution_count": null,
   "outputs": [],
   "source": [
    "import numpy as np\n",
    "\n",
    "from typing import Callable\n",
    "from dataclasses import dataclass\n",
    "\n",
    "\n",
    "@dataclass(frozen=True)\n",
    "class OptimalBinaryTree:\n",
    "    \"\"\"\n",
    "    - spot_price : initial option price\n",
    "    - payoff : option payoff\n",
    "    - expiry : expire duration of option\n",
    "    - rate : discount rate\n",
    "    - vol : volatility of option's lognormal movement\n",
    "    - num_steps : total number of steps\n",
    "    \"\"\"\n",
    "    spot_price: float\n",
    "    payoff: Callable[[float, float], float]\n",
    "    expiry: float\n",
    "    rate: float\n",
    "    vol: float\n",
    "    num_steps: int\n",
    "\n",
    "    def dt(self):\n",
    "        return self.expiry/self.num_steps\n",
    "\n",
    "    def state_price(self, i, j):\n",
    "        return self.spot_price*np.exp((2*j-i)*self.vol*np.sqrt(self.dt()))"
   ],
   "metadata": {
    "collapsed": false,
    "pycharm": {
     "name": "#%%\n"
    }
   }
  }
 ],
 "metadata": {
  "kernelspec": {
   "display_name": "Python 3",
   "language": "python",
   "name": "python3"
  },
  "language_info": {
   "codemirror_mode": {
    "name": "ipython",
    "version": 2
   },
   "file_extension": ".py",
   "mimetype": "text/x-python",
   "name": "python",
   "nbconvert_exporter": "python",
   "pygments_lexer": "ipython2",
   "version": "2.7.6"
  }
 },
 "nbformat": 4,
 "nbformat_minor": 0
}