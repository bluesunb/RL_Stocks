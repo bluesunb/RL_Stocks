{
 "cells": [
  {
   "cell_type": "markdown",
   "source": [
    "# Lognormal Distribution\n",
    "$$ dS = \\mu S dt + \\sigma S dz $$\n",
    "$$ ln S \\sim \\mathcal{N} $$\n",
    "\n",
    "이 때,\n",
    "$$ E[ln S] = \\mu t \\quad \\quad V[ln S]=\\sigma^2 t $$"
   ],
   "metadata": {
    "collapsed": false
   }
  },
  {
   "cell_type": "code",
   "execution_count": null,
   "outputs": [],
   "source": [
    "import numpy as np\n",
    "\n",
    "from typing import Callable\n",
    "from dataclasses import dataclass\n",
    "\n",
    "\n",
    "@dataclass(frozen=True)\n",
    "class OptimalBinaryTree:\n",
    "    \"\"\"\n",
    "    - spot_price : initial option price\n",
    "    - payoff : option payoff\n",
    "    - expiry : expire duration of option\n",
    "    - rate : discount rate\n",
    "    - vol : volatility of option's lognormal movement\n",
    "    - num_steps : total number of steps\n",
    "    \"\"\"\n",
    "    spot_price: float\n",
    "    payoff: Callable[[float, float], float]\n",
    "    expiry: float\n",
    "    rate: float\n",
    "    vol: float\n",
    "    num_steps: int\n",
    "\n",
    "    def dt(self):\n",
    "        return self.expiry/self.num_steps\n",
    "\n",
    "    def state_price(self, i, j):\n",
    "        return self.spot_price*np.exp((2*j-i)*self.vol*np.sqrt(self.dt()))\n",
    "\n"
   ],
   "metadata": {
    "collapsed": false,
    "pycharm": {
     "name": "#%%\n"
    }
   }
  },
  {
   "cell_type": "markdown",
   "source": [
    "# Binomial Option Pricing Model\n",
    "\n",
    "시간 단위가 지나면 underlying의 가격이 다음처럼 변한다.\n",
    "$$ S_{t+1} = \\begin{cases} uS_t \\ \\ (\\text{with prob } q)\\\\ dS_t \\ \\ (\\text{with prob } 1-q) \\end{cases} $$\n",
    "\n",
    "따라서 현재 underlying 가격 $S$, call option의 가치 $C$, exercise price $X$에 대해서 다음이 성립.\n",
    "$$ C = \\max\\left[S-X, 0\\right] \\\\\n",
    "C_u = \\max\\left[uS-X, 0\\right]\\\\\n",
    "C_d = \\max\\left[dS-X, 0\\right]\\\\\n",
    "$$\n",
    "\n",
    "이 때 완전한 risk-free hedging portfolio $h$에 대해서 다음이 성립\n",
    "$$ V = hS-C\\\\\n",
    "V_u = huS-C_u\\\\\n",
    "V_d = hdS-C_d\n",
    "$$\n",
    "\n",
    "$$ V_u=V_d \\quad (\\because \\text{risk free hedging})\\\\\n",
    "h = {1\\over S}{C_u-C_d \\over u-d} $$\n",
    "\n",
    "### Computed Price\n",
    "이 때 riskless rate $r$에 대해서 다음이 성립.\n",
    "$$ (1+r)V=V_u=V_d $$\n",
    "\n",
    "따라서 이를 정리하면,\n",
    "\\begin{aligned}\n",
    "(1+&r)(hS-C)=(huS-C_u)\\\\\n",
    "\\Rightarrow C&=hS-{1\\over 1+r}(huS-C_u)\\\\\n",
    "&={1\\over 1+r}\\left[{1+r-d\\over u-d}C_u - {1+r-u\\over u-d}C_d\\right]\\\\\n",
    "&={1\\over 1+r}\\left[pC_u+(1-p)C_d\\right]\n",
    "\\end{aligned}\n"
   ],
   "metadata": {
    "collapsed": false
   }
  },
  {
   "cell_type": "code",
   "execution_count": 2,
   "outputs": [],
   "source": [
    "import numpy as np\n",
    "\n",
    "class BinOptionTree:\n",
    "    def __init__(self, spot_price, exercise_price, factor, up_p, riskless_rate, reverse_factor=None):\n",
    "        self.spot_price = spot_price\n",
    "        self.exercise_price = exercise_price\n",
    "        self.factor = factor\n",
    "        self.reverse_factor = 1/self.factor if reverse_factor is None else reverse_factor\n",
    "        self.up_p = up_p\n",
    "        self.riskless_rate = riskless_rate\n",
    "\n",
    "        self.underlying_prices = [[self.spot_price]]\n",
    "        self.option_prices = [[0]]\n",
    "\n",
    "    def reset(self):\n",
    "        self.underlying_prices = [[self.spot_price]]\n",
    "        self.option_prices = [[0]]\n",
    "\n",
    "    def expand_underlying(self):\n",
    "        before_prices = self.underlying_prices[-1]\n",
    "        now_prices = [price*self.factor for price in before_prices]\n",
    "        now_prices.append(before_prices[-1]*self.reverse_factor)\n",
    "        self.underlying_prices.append(now_prices)\n",
    "        self.option_prices.append([max(price-self.exercise_price, 0) for price in now_prices])\n",
    "        self.expand_option()\n",
    "\n",
    "    def print_underlying(self):\n",
    "        tmp =[print(prices) for prices in self.underlying_prices][0]\n",
    "\n",
    "    def expand_option(self):\n",
    "        u, d = self.factor, self.reverse_factor\n",
    "        r = self.riskless_rate\n",
    "        p = (1+r-d)/(u-d)\n",
    "        for i in reversed(range(1, len(self.option_prices))):\n",
    "            recent_prices = self.option_prices[i]\n",
    "            for j in range(len(self.option_prices[i-1])):\n",
    "                computed_price = (p*recent_prices[j]+(1-p)*recent_prices[j+1])/(1+r)\n",
    "                self.option_prices[i-1][j] = computed_price\n",
    "\n",
    "    def print_option(self):\n",
    "        tmp = [print(prices) for prices in self.option_prices][0]\n",
    "\n",
    "    def print_raw(self):\n",
    "        tmp = [print([round(price-self.exercise_price, 5) for price in prices]) for prices in self.underlying_prices]\n",
    "\n",
    "\n",
    "tree = BinOptionTree(100.0, 100.0, 1.2, 0.5, 0.0, reverse_factor=0.9)\n",
    "tree.expand_underlying()"
   ],
   "metadata": {
    "collapsed": false,
    "pycharm": {
     "name": "#%%\n"
    }
   }
  },
  {
   "cell_type": "code",
   "execution_count": 4,
   "outputs": [],
   "source": [
    "tree.expand_underlying()"
   ],
   "metadata": {
    "collapsed": false,
    "pycharm": {
     "name": "#%%\n"
    }
   }
  },
  {
   "cell_type": "code",
   "execution_count": 5,
   "outputs": [
    {
     "name": "stdout",
     "output_type": "stream",
     "text": [
      "[100.0]\n",
      "[120.0, 90.0]\n",
      "[144.0, 108.0, 81.0]\n"
     ]
    }
   ],
   "source": [
    "tree.print_underlying()"
   ],
   "metadata": {
    "collapsed": false,
    "pycharm": {
     "name": "#%%\n"
    }
   }
  },
  {
   "cell_type": "code",
   "execution_count": 6,
   "outputs": [
    {
     "name": "stdout",
     "output_type": "stream",
     "text": [
      "[8.444444444444445]\n",
      "[20.0, 2.6666666666666665]\n",
      "[44.0, 8.0, 0]\n"
     ]
    }
   ],
   "source": [
    "tree.print_option()"
   ],
   "metadata": {
    "collapsed": false,
    "pycharm": {
     "name": "#%%\n"
    }
   }
  },
  {
   "cell_type": "code",
   "execution_count": 7,
   "outputs": [
    {
     "name": "stdout",
     "output_type": "stream",
     "text": [
      "[6.667]\n",
      "[20.  0.]\n",
      "========================\n",
      "[8.444]\n",
      "[20.     2.667]\n",
      "[44.  8.  0.]\n",
      "========================\n",
      "[9.274]\n",
      "[21.244  3.289]\n",
      "[44.     9.867  0.   ]\n",
      "[72.8 29.6  0.   0. ]\n",
      "========================\n",
      "[11.739]\n",
      "[23.71   5.754]\n",
      "[44.    13.564  1.849]\n",
      "[72.8   29.6    5.547  0.   ]\n",
      "[107.36  55.52  16.64   0.     0.  ]\n",
      "========================\n"
     ]
    }
   ],
   "source": [
    "tree.reset()\n",
    "for i in range(4):\n",
    "    tree.expand_underlying()\n",
    "    # [print(round(np.array(prices),5) for prices in tree.option_prices)][0]\n",
    "    [print(np.round(np.array(prices), 3)) for prices in tree.option_prices]\n",
    "    print('========================')\n"
   ],
   "metadata": {
    "collapsed": false,
    "pycharm": {
     "name": "#%%\n"
    }
   }
  },
  {
   "cell_type": "code",
   "execution_count": 8,
   "outputs": [
    {
     "name": "stdout",
     "output_type": "stream",
     "text": [
      "[0.0]\n",
      "[20.0, -10.0]\n",
      "[44.0, 8.0, -19.0]\n",
      "[72.8, 29.6, -2.8, -27.1]\n",
      "[107.36, 55.52, 16.64, -12.52, -34.39]\n"
     ]
    }
   ],
   "source": [
    "tree.print_raw()"
   ],
   "metadata": {
    "collapsed": false,
    "pycharm": {
     "name": "#%%\n"
    }
   }
  },
  {
   "cell_type": "markdown",
   "source": [
    "# Lognormal Distribution"
   ],
   "metadata": {
    "collapsed": false
   }
  },
  {
   "cell_type": "code",
   "execution_count": 23,
   "outputs": [
    {
     "data": {
      "text/plain": "[<matplotlib.lines.Line2D at 0x1febf7142b0>]"
     },
     "execution_count": 23,
     "metadata": {},
     "output_type": "execute_result"
    },
    {
     "data": {
      "text/plain": "<Figure size 432x288 with 1 Axes>",
      "image/png": "[encoded data removed]"
     },
     "metadata": {
      "needs_background": "light"
     },
     "output_type": "display_data"
    }
   ],
   "source": [
    "def lognormal_series(t, mu, sigma, spot):\n",
    "    res = [spot]\n",
    "    dt = t[1]-t[0]\n",
    "    for i in t[1:]:\n",
    "        s = res[-1]\n",
    "        res.append(mu(i)*s + sigma(t)*s*np.random.standard_normal()/dt)\n",
    "    return np.array(res)\n",
    "\n",
    "import matplotlib.pyplot as plt\n",
    "\n",
    "t = np.linspace(0,5,100)\n",
    "mu = lambda x: 2\n",
    "sigma = lambda x: 0.01\n",
    "res = lognormal_series(t, mu, sigma, 0.001)\n",
    "plt.plot(t, res)"
   ],
   "metadata": {
    "collapsed": false,
    "pycharm": {
     "name": "#%%\n"
    }
   }
  },
  {
   "cell_type": "code",
   "execution_count": 1,
   "outputs": [],
   "source": [
    "import numpy as np\n",
    "import matplotlib.pyplot as plt\n",
    "import seaborn as sb"
   ],
   "metadata": {
    "collapsed": false,
    "pycharm": {
     "name": "#%%\n"
    }
   }
  },
  {
   "cell_type": "code",
   "execution_count": 35,
   "outputs": [],
   "source": [
    "x = np.random.standard_normal(5000)\n",
    "expectation = lambda aversion: np.mean(x) + np.zeros_like(aversion)\n",
    "mean_var = lambda aversion: np.mean(x)-aversion/2*np.var(x)\n",
    "worst_case = lambda aversion: np.min(x)+np.zeros_like(aversion)\n",
    "entropic = lambda aversion: -np.log(np.mean(np.exp(-aversion[:, None]*x), axis=-1))/aversion\n",
    "\n",
    "\n",
    "def cvar(aversion):\n",
    "    w = np.linspace(-10, 10, 1000)\n",
    "    risk_term = np.mean(np.clip(w[:, None]-x, a_min=0, a_max=np.inf), axis=-1)  # (len(w), )\n",
    "    risk_term = aversion[:, None]*risk_term     # (len(a), len(w))\n",
    "    return np.max(-risk_term+w, axis=-1)\n"
   ],
   "metadata": {
    "collapsed": false,
    "pycharm": {
     "name": "#%%\n"
    }
   }
  },
  {
   "cell_type": "code",
   "execution_count": 37,
   "outputs": [
    {
     "data": {
      "text/plain": "<Figure size 576x432 with 1 Axes>",
      "image/png": "[encoded data removed]"
     },
     "metadata": {
      "needs_background": "light"
     },
     "output_type": "display_data"
    }
   ],
   "source": [
    "a = np.linspace(0.01,10,100)\n",
    "plt.figure(figsize=(8,6))\n",
    "plt.plot(a, entropic(a), label='entropic')\n",
    "plt.plot(a, mean_var(a), label='mean_var')\n",
    "plt.plot(a, worst_case(a), label='worst_case')\n",
    "plt.plot(a, expectation(a), label='expectation')\n",
    "plt.plot(a, cvar(a), label='cvar')\n",
    "\n",
    "plt.ylim([-5,0.5])\n",
    "plt.grid(True)\n",
    "\n",
    "plt.legend()\n",
    "plt.show()"
   ],
   "metadata": {
    "collapsed": false,
    "pycharm": {
     "name": "#%%\n"
    }
   }
  },
  {
   "cell_type": "code",
   "execution_count": 23,
   "outputs": [
    {
     "data": {
      "text/plain": "-3.814779912374024"
     },
     "execution_count": 23,
     "metadata": {},
     "output_type": "execute_result"
    }
   ],
   "source": [
    "worst_case(a)"
   ],
   "metadata": {
    "collapsed": false,
    "pycharm": {
     "name": "#%%\n"
    }
   }
  },
  {
   "cell_type": "code",
   "execution_count": 30,
   "outputs": [],
   "source": [
    "def optimized_certainty_eq(w, utility, x):\n",
    "    return w - np.mean(utility(x+w), axis=-1)\n",
    "\n",
    "def utility(x, a=1.0):\n",
    "    return (1-np.exp(-a*x))/a\n",
    "\n",
    "from scipy.optimize import minimize\n",
    "\n",
    "res = minimize(optimized_certainty_eq, x0=0, args=(utility, np.linspace(0, 10, 100)))"
   ],
   "metadata": {
    "collapsed": false,
    "pycharm": {
     "name": "#%%\n"
    }
   }
  },
  {
   "cell_type": "code",
   "execution_count": 31,
   "outputs": [
    {
     "data": {
      "text/plain": "-2.2625965078133174"
     },
     "execution_count": 31,
     "metadata": {},
     "output_type": "execute_result"
    }
   ],
   "source": [
    "res.fun"
   ],
   "metadata": {
    "collapsed": false,
    "pycharm": {
     "name": "#%%\n"
    }
   }
  },
  {
   "cell_type": "code",
   "execution_count": null,
   "outputs": [],
   "source": [],
   "metadata": {
    "collapsed": false,
    "pycharm": {
     "name": "#%%\n"
    }
   }
  }
 ],
 "metadata": {
  "kernelspec": {
   "display_name": "Python 3",
   "language": "python",
   "name": "python3"
  },
  "language_info": {
   "codemirror_mode": {
    "name": "ipython",
    "version": 2
   },
   "file_extension": ".py",
   "mimetype": "text/x-python",
   "name": "python",
   "nbconvert_exporter": "python",
   "pygments_lexer": "ipython2",
   "version": "2.7.6"
  }
 },
 "nbformat": 4,
 "nbformat_minor": 0
}