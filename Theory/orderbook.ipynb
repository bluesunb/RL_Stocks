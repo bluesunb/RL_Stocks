{
 "cells": [
  {
   "cell_type": "code",
   "execution_count": 39,
   "metadata": {
    "collapsed": true
   },
   "outputs": [],
   "source": [
    "import numpy as np\n",
    "\n",
    "from dataclasses import dataclass, replace\n",
    "from typing import Tuple, Sequence, List, Optional\n",
    "\n",
    "@dataclass(frozen=True)\n",
    "class Order:\n",
    "    price: float\n",
    "    shares: int\n",
    "\n",
    "@dataclass(frozen=True)\n",
    "class OrderBook:\n",
    "    bids: Sequence[Order]\n",
    "    asks: Sequence[Order]\n",
    "\n",
    "    def bid_price(self):\n",
    "        return self.bids[0].price\n",
    "\n",
    "    def ask_price(self):\n",
    "        return self.asks[0].price\n",
    "\n",
    "    def mid_price(self):\n",
    "        return (self.bid_price() + self.ask_price())/2\n",
    "\n",
    "    def spread(self):\n",
    "        return self.bid_price() - self.ask_price()\n",
    "\n",
    "    def market_depth(self):\n",
    "        return self.asks[-1].price - self.bids[-1].price\n",
    "\n",
    "    @staticmethod\n",
    "    def eat(orders: List[Order], shares: int) -> Tuple[Order, List[Order]]:\n",
    "        eaten_prices = 0\n",
    "        eaten_shares = 0\n",
    "        available_shares = i = 0\n",
    "        while eaten_shares < shares and i<len(orders):\n",
    "            order = orders[i]\n",
    "            available_shares = min(order.shares, shares - eaten_shares)\n",
    "            eaten_prices += order.price * available_shares\n",
    "            eaten_shares += available_shares\n",
    "            i += 1\n",
    "\n",
    "        eaten_order = Order(eaten_prices, eaten_shares)\n",
    "        left_shares = orders[i-1].shares - available_shares\n",
    "        left_orders = ([Order(orders[i-1].price, left_shares)] if left_shares else []) + orders[i:]\n",
    "\n",
    "        return eaten_order, left_orders\n",
    "\n",
    "    @staticmethod\n",
    "    def eat_book(ps_pairs: Sequence[Order],shares: int) -> Tuple[Order, Sequence[Order]]:\n",
    "        rem_shares: int = shares\n",
    "        dollars: float = 0.\n",
    "        for i, d_s in enumerate(ps_pairs):\n",
    "            this_price: float = d_s.price\n",
    "            this_shares: int = d_s.shares\n",
    "            dollars += this_price * min(rem_shares, this_shares)\n",
    "            if rem_shares < this_shares:\n",
    "                eaten_order = Order(dollars, shares)\n",
    "                left_orders = [Order(this_price,this_shares - rem_shares)] + list(ps_pairs[i+1:])\n",
    "                return eaten_order, left_orders\n",
    "\n",
    "            else:\n",
    "                rem_shares -= this_shares\n",
    "\n",
    "        return Order(dollars, shares - rem_shares), []\n",
    "\n",
    "    def eat_limit_order(self, price, shares, side) -> Tuple[Order, List[Order]]:\n",
    "        using_orders = self.bids if side=='sell' else self.asks\n",
    "        eligibility = lambda x: x.price >= price if side=='sell' else lambda x: x.price <= price\n",
    "        ground = next((i for i, order in enumerate(using_orders) if not eligibility(order)), len(using_orders))\n",
    "\n",
    "        # split orders into eligible or ineligible\n",
    "        eligible_orders = using_orders[:ground]\n",
    "        ineligible_orders = using_orders[ground:]\n",
    "\n",
    "        eaten_order, remain_orders = OrderBook.eat(eligible_orders, shares)\n",
    "        new_countersides = remain_orders + ineligible_orders    # integrate left orders\n",
    "        remain_shares = shares - eaten_order.shares\n",
    "\n",
    "        if remain_shares:   # if there is remain limit order\n",
    "            new_sides = self.asks if side=='sell' else self.bids\n",
    "            # find this sell order price's position in this-side orders\n",
    "            position = next((i for i, order in enumerate(new_sides) if eligibility(order)), len(new_sides))\n",
    "            if position\n",
    "\n",
    "\n",
    "    def sell_limit_order(self, price: float, shares: int):\n",
    "        index: Optional[int] = next((i for i, d_s in enumerate(self.bids) if d_s.price < price), None)\n",
    "\n",
    "        eligible_bids = self.bids if index is None else self.bids[:index]\n",
    "        ineligible_bids = [] if index is None else self.bids[index:]\n",
    "\n",
    "        d_s, rem_bids = OrderBook.eat_book(eligible_bids, shares)\n",
    "        new_bids = list(rem_bids) + list(ineligible_bids)\n",
    "        rem_shares: int = shares - d_s.shares\n",
    "\n",
    "        if rem_shares > 0:\n",
    "            new_asks: List[Order] = list(self.asks)\n",
    "            index1: Optional[int] = next((i for i, d_s in enumerate(new_asks) if d_s.price >= price), None)\n",
    "            if index1 is None:\n",
    "                new_asks.append(Order(price=price, shares=rem_shares))\n",
    "            elif new_asks[index1].price != price:\n",
    "                new_asks.insert(index1, Order(price=price,shares=rem_shares))\n",
    "            else:\n",
    "                new_asks[index1] = Order(price=price, shares=new_asks[index1].shares + rem_shares)\n",
    "            return d_s, OrderBook(asks=new_asks,bids=new_bids)\n",
    "        else:\n",
    "            return d_s, replace(self,bids=new_bids)\n"
   ]
  },
  {
   "cell_type": "code",
   "execution_count": 46,
   "outputs": [],
   "source": [
    "prices = np.random.randint(1, 10, size=10000)\n",
    "shares = np.random.randint(1, 10, size=10000)\n",
    "orders = sorted(list(map(lambda x: Order(*x), zip(prices, shares))), key=lambda x: x.price, reverse=True)"
   ],
   "metadata": {
    "collapsed": false,
    "pycharm": {
     "name": "#%%\n"
    }
   }
  },
  {
   "cell_type": "code",
   "execution_count": 47,
   "outputs": [],
   "source": [
    "orderbook = OrderBook(orders, orders)"
   ],
   "metadata": {
    "collapsed": false,
    "pycharm": {
     "name": "#%%\n"
    }
   }
  },
  {
   "cell_type": "code",
   "execution_count": 43,
   "outputs": [
    {
     "data": {
      "text/plain": "(Order(price=154, shares=20),\n [Order(price=6, shares=1),\n  Order(price=6, shares=9),\n  Order(price=5, shares=7),\n  Order(price=5, shares=6),\n  Order(price=3, shares=9),\n  Order(price=2, shares=3),\n  Order(price=1, shares=5)])"
     },
     "execution_count": 43,
     "metadata": {},
     "output_type": "execute_result"
    }
   ],
   "source": [
    "orderbook.eat(orders, 50000)"
   ],
   "metadata": {
    "collapsed": false,
    "pycharm": {
     "name": "#%%\n"
    }
   }
  },
  {
   "cell_type": "code",
   "execution_count": 44,
   "outputs": [
    {
     "data": {
      "text/plain": "(Order(price=154.0, shares=20),\n [Order(price=6, shares=1),\n  Order(price=6, shares=9),\n  Order(price=5, shares=7),\n  Order(price=5, shares=6),\n  Order(price=3, shares=9),\n  Order(price=2, shares=3),\n  Order(price=1, shares=5)])"
     },
     "execution_count": 44,
     "metadata": {},
     "output_type": "execute_result"
    }
   ],
   "source": [
    "orderbook.eat_book(orders, 50000)"
   ],
   "metadata": {
    "collapsed": false,
    "pycharm": {
     "name": "#%%\n"
    }
   }
  },
  {
   "cell_type": "code",
   "execution_count": 51,
   "outputs": [],
   "source": [
    "import time\n",
    "\n",
    "def timer(f, args=None, kwargs=None):\n",
    "    args = [] if args is None else args\n",
    "    kwargs = dict() if kwargs is None else kwargs\n",
    "    st = time.time()\n",
    "    res = f(*args, **kwargs)\n",
    "    print(f'{f.__name__} ended: {round(time.time()-st, 5)}s')\n",
    "    return res"
   ],
   "metadata": {
    "collapsed": false,
    "pycharm": {
     "name": "#%%\n"
    }
   }
  },
  {
   "cell_type": "code",
   "execution_count": 55,
   "outputs": [
    {
     "name": "stdout",
     "output_type": "stream",
     "text": [
      "eat ended: 0.02358s\n",
      "eat_book ended: 0.01869s\n"
     ]
    }
   ],
   "source": [
    "res1 = timer(orderbook.eat, [orders, 50000])\n",
    "res2 = timer(orderbook.eat_book, [orders, 50000])"
   ],
   "metadata": {
    "collapsed": false,
    "pycharm": {
     "name": "#%%\n"
    }
   }
  },
  {
   "cell_type": "code",
   "execution_count": 63,
   "outputs": [
    {
     "data": {
      "text/plain": "[1, 2, 3, 4]"
     },
     "execution_count": 63,
     "metadata": {},
     "output_type": "execute_result"
    }
   ],
   "source": [
    "a = [1,2,3]\n",
    "a.insert(3, 4)\n",
    "a"
   ],
   "metadata": {
    "collapsed": false,
    "pycharm": {
     "name": "#%%\n"
    }
   }
  },
  {
   "cell_type": "code",
   "execution_count": null,
   "outputs": [],
   "source": [],
   "metadata": {
    "collapsed": false,
    "pycharm": {
     "name": "#%%\n"
    }
   }
  }
 ],
 "metadata": {
  "kernelspec": {
   "display_name": "Python 3",
   "language": "python",
   "name": "python3"
  },
  "language_info": {
   "codemirror_mode": {
    "name": "ipython",
    "version": 2
   },
   "file_extension": ".py",
   "mimetype": "text/x-python",
   "name": "python",
   "nbconvert_exporter": "python",
   "pygments_lexer": "ipython2",
   "version": "2.7.6"
  }
 },
 "nbformat": 4,
 "nbformat_minor": 0
}