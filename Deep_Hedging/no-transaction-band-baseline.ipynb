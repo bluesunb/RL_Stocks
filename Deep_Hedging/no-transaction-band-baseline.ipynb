{
 "cells": [
  {
   "cell_type": "code",
   "execution_count": 24,
   "metadata": {},
   "outputs": [],
   "source": [
    "import numpy as np\n",
    "import matplotlib\n",
    "import matplotlib.pyplot as plt\n",
    "import seaborn as sb\n",
    "\n",
    "import torch as th\n",
    "import torch.nn as nn\n",
    "import torch.nn.functional as F\n",
    "\n",
    "from tqdm import tqdm\n",
    "\n",
    "from typing import Callable, Optional, Union, Tuple, List, Type, Dict, Any"
   ]
  },
  {
   "cell_type": "markdown",
   "source": [
    "# Utils\n",
    "\n",
    "## European option's price\n",
    "\n",
    "$$ C(S,t) = S\\Phi(d_1)-Ke^{-\\gamma T}\\Phi(d_2) \\\\\n",
    "d_1={\\ln\\left({S_t\\over K}\\right)+\\left(\\gamma+{\\sigma^2\\over2}\\right)T\\over \\sigma\\sqrt{T}} \\\\\n",
    "~ \\\\\n",
    "\\therefore \\Delta = {\\partial C\\over \\partial S} = \\Phi(d_1)\n",
    "$$"
   ],
   "metadata": {
    "collapsed": false
   }
  },
  {
   "cell_type": "code",
   "execution_count": 11,
   "outputs": [],
   "source": [
    "def european_option_delta(log_moneyness, expiry, volatility):\n",
    "    \"\"\"\n",
    "    log_moneyness : log ratio of money over execution price\n",
    "    \"\"\"\n",
    "    s, t, v = map(th.as_tensor, (log_moneyness, expiry, volatility))\n",
    "    normal = th.distributions.Normal(loc=th.tensor(0.), scale=th.tensor(1.))\n",
    "    delta = normal.cdf((s+(v**2/2)*t) / (v*th.sqrt(t)))\n",
    "    return delta.item()"
   ],
   "metadata": {
    "collapsed": false,
    "pycharm": {
     "name": "#%%\n"
    }
   }
  },
  {
   "cell_type": "markdown",
   "source": [
    "## European option's payoff"
   ],
   "metadata": {
    "collapsed": false
   }
  },
  {
   "cell_type": "code",
   "execution_count": 41,
   "outputs": [],
   "source": [
    "def european_option_payoff(prices: np.ndarray, strike=1.0) -> np.ndarray:\n",
    "    return np.clip(prices[-1] - strike, 0, np.inf)\n",
    "\n",
    "def lookback_option_payoff(prices: np.ndarray, strike=1.03) -> np.ndarray:\n",
    "    return np.clip(np.max(prices, axis=0) - strike, 0, np.inf)\n"
   ],
   "metadata": {
    "collapsed": false,
    "pycharm": {
     "name": "#%%\n"
    }
   }
  },
  {
   "cell_type": "markdown",
   "source": [
    "## Mean Clamp"
   ],
   "metadata": {
    "collapsed": false
   }
  },
  {
   "cell_type": "code",
   "execution_count": 13,
   "outputs": [],
   "source": [
    "def clamp(x, lb, ub) -> th.Tensor:\n",
    "    if not isinstance(x, th.Tensor):\n",
    "        x = th.tensor(x, dtype=th.float32)\n",
    "    if not isinstance(ub, th.Tensor):\n",
    "        ub = th.tensor(ub, dtype=th.float32)\n",
    "    if not isinstance(lb, th.Tensor):\n",
    "        lb = th.tensor(lb, dtype=th.float32)\n",
    "\n",
    "    x = th.min(th.max(x, lb), ub)\n",
    "    x = th.where(lb < ub, x, (lb+ub)/2)\n",
    "    return x"
   ],
   "metadata": {
    "collapsed": false,
    "pycharm": {
     "name": "#%%\n"
    }
   }
  },
  {
   "cell_type": "markdown",
   "source": [
    "## Entropic Loss\n",
    "\n",
    "$$ L = -{1\\over \\lambda}\\log E\\left[e^{-\\gamma X}\\right] $$\n",
    "\n",
    "여기서 $X$ : Profit&Loss"
   ],
   "metadata": {
    "collapsed": false
   }
  },
  {
   "cell_type": "code",
   "execution_count": 14,
   "outputs": [],
   "source": [
    "def pnl_entropic_loss(pnl, aversion=1.0) -> th.Tensor:\n",
    "    return -th.mean(-th.exp(-aversion*pnl), dim=-1)\n",
    "\n",
    "def pnl_entropic_premium(pnl, aversion=1.0) -> th.Tensor:\n",
    "    return -th.log(pnl_entropic_loss(pnl, aversion=aversion))/aversion.view(-1)"
   ],
   "metadata": {
    "collapsed": false,
    "pycharm": {
     "name": "#%%\n"
    }
   }
  },
  {
   "cell_type": "markdown",
   "source": [
    "\n",
    "## Geometric Brownian Motion\n",
    "$$ dS = \\mu S dt + \\sigma S dz \\\\ ~ \\\\\n",
    "S = S_0 \\exp\\left[{\\left(\\mu-{\\sigma^2\\over 2}\\right)t+\\sigma\\sqrt{t}Z_t}\\right]\n",
    "$$"
   ],
   "metadata": {
    "collapsed": false
   }
  },
  {
   "cell_type": "code",
   "execution_count": 12,
   "outputs": [],
   "source": [
    "class GBM:\n",
    "    def __init__(self, n_assets, dt=1/365, drift=0.0, volatility=0.2, initial_price=1.0):\n",
    "        self.n_assets = n_assets,\n",
    "        self.dt = dt\n",
    "        self.drift = drift\n",
    "        self.volatility = volatility\n",
    "        self.initial_price = initial_price\n",
    "\n",
    "        self.now = 0\n",
    "        self.random_processes = np.zeros(self.n_assets)\n",
    "\n",
    "    def get_seed(self):\n",
    "        return np.random.get_state()\n",
    "\n",
    "    def move_price(self) -> np.ndarray:\n",
    "        \"\"\"\n",
    "        generate gbm moves result for self.now and self.now ++\n",
    "        \"\"\"\n",
    "        normal_rand = np.random.standard_normal(size=self.n_assets)\n",
    "        if self.now == 0:\n",
    "            normal_rand[:] = 0.0\n",
    "\n",
    "        self.random_processes += normal_rand\n",
    "        noise_term = self.volatility * (self.dt ** 0.5) * self.random_processes\n",
    "        t = self.now * self.dt\n",
    "        prices = np.exp((self.drift - 0.5*self.volatility**2)*t + noise_term)\n",
    "\n",
    "        self.now += 1\n",
    "\n",
    "        return self.initial_price * prices"
   ],
   "metadata": {
    "collapsed": false,
    "pycharm": {
     "name": "#%%\n"
    }
   }
  },
  {
   "cell_type": "markdown",
   "source": [
    "# Env"
   ],
   "metadata": {
    "collapsed": false
   }
  },
  {
   "cell_type": "code",
   "execution_count": 45,
   "metadata": {},
   "outputs": [],
   "source": [
    "import gym\n",
    "import gym.spaces as spaces\n",
    "\n",
    "from stable_baselines3.common.type_aliases import GymObs, GymStepReturn\n",
    "\n",
    "class BSMarket(gym.Env):\n",
    "    def __init__(self, \n",
    "                 n_assets: int, \n",
    "                 cost: float,\n",
    "                 payoff: str=\"european\",\n",
    "                 payoff_kwargs: Dict[str, Any] = None,\n",
    "                 maturity: int=30,\n",
    "                 dt: float=1/365,\n",
    "                 hedge_initialize=\"zero\",\n",
    "                 gen_name: str=\"gbm\",\n",
    "                 gen_kwargs: Dict[str, Any] = None):\n",
    "        \n",
    "        super(BSMarket, self).__init__()\n",
    "        self.n_assets = n_assets\n",
    "        self.transaction_cost = cost\n",
    "        self.payoff_kwargs = payoff_kwargs\n",
    "        self.payoff = self.get_payoff_fn(payoff)\n",
    "        self.maturity = maturity\n",
    "        self.dt = dt\n",
    "        self.price_generator = self.get_price_generator(gen_name)\n",
    "        self.gen_kwargs = gen_kwargs\n",
    "        \n",
    "        self.now = 0\n",
    "        self.prices: List[np.ndarray] = []\n",
    "        \n",
    "        self.hedge: np.ndarray = np.empty(n_assets)\n",
    "        \n",
    "        self.reset(initialize=hedge_initialize)\n",
    "        \n",
    "        # self.observation_space = spaces.Box(shape=(n_assets, 3))\n",
    "        self.observation_space = spaces.Dict({'price': spaces.Box(shape=(n_assets,)),\n",
    "                                              'time_expiry': spaces.Box(shape=(n_assets, )),\n",
    "                                              'volatility': spaces.Box(shape=(n_assets, )),\n",
    "                                              'prev_positions': spaces.Box(shape=(n_assets, ))})\n",
    "        \n",
    "        self.action_space = spaces.Box(shape=(n_assets, ))\n",
    "    \n",
    "    def seed(self, seed=None):\n",
    "        np.random.seed(seed)\n",
    "        th.manual_seed(seed)\n",
    "    \n",
    "    def reset(self, initialize=\"zero\") -> GymObs:\n",
    "        self.now = 0\n",
    "        self.prices = [np.full(self.n_assets, self.gen_kwargs.get('init_price', 1.0))]\n",
    "        \n",
    "        if initialize == \"std\":\n",
    "            self.hedge = np.random.standard_normal(self.n_assets)\n",
    "        elif initialize == \"zero\":\n",
    "            self.hedge = np.zeros(self.n_assets)\n",
    "    \n",
    "    def get_obs(self) -> GymObs:\n",
    "        price = self.prices[self.now]\n",
    "        time_expiry = np.full_like(price, self.maturity - self.now)\n",
    "        volatility = np.full_like(price, self.gen_kwargs['volatility'])\n",
    "        prev_hedge = self.hedge.copy()\n",
    "        \n",
    "        obs_dict = {'price': price,\n",
    "                    'time_expiry': time_expiry,\n",
    "                    'volatility': volatility,\n",
    "                    'prev_hedge': prev_hedge}\n",
    "        \n",
    "        return obs_dict        \n",
    "    \n",
    "    def step(self, action: np.ndarray) -> GymStepReturn:\n",
    "        \"\"\"\n",
    "        action: hedge(t+1)\n",
    "        \"\"\"\n",
    "        net_pnl, done, info =0, False, {}\n",
    "\n",
    "        if self.now < self.maturity-1:\n",
    "            obs = self.get_obs()\n",
    "            next_price = self.price_generator.move_price()\n",
    "\n",
    "            gain = action * (next_price - obs['price'])\n",
    "            transaction_cost = self.transaction_cost * np.abs(action - self.hedge) * obs['price']\n",
    "            net_pnl = gain - transaction_cost\n",
    "\n",
    "            self.prices.append(next_price)\n",
    "            self.hedge = action\n",
    "            self.now += 1\n",
    "\n",
    "        elif self.now == self.maturity - 1:\n",
    "            net_pnl = -self.payoff(self.prices, **self.payoff_kwargs)\n",
    "            self.now += 1\n",
    "\n",
    "            done = True\n",
    "            info['msg'] = \"MAX_STEP\"\n",
    "\n",
    "        return self.get_obs(), net_pnl, done, info\n",
    "        \n",
    "    def get_payoff_fn(self, payoff_name):\n",
    "        strike = self.payoff_kwargs.get('strike', 1.0)\n",
    "        if payoff_name == \"european\":\n",
    "            return european_option_payoff\n",
    "\n",
    "        elif payoff_name == \"lookback\":\n",
    "            return lookback_option_payoff\n",
    "\n",
    "        else:\n",
    "            raise ValueError(f\"payoff name not found: {payoff_name}\")\n",
    "        \n",
    "    def get_price_generator(self, gen_name):\n",
    "        if gen_name == \"gbm\":\n",
    "            self.price_generator = GBM(n_assets=self.n_assets,\n",
    "                                       dt=self.dt,\n",
    "                                       **self.gen_kwargs)\n",
    "        else:\n",
    "            raise ValueError(f\"price generator name not found: {gen_name}\")"
   ]
  },
  {
   "cell_type": "code",
   "execution_count": 43,
   "metadata": {},
   "outputs": [],
   "source": [
    "from stable_baselines3.common.policies import BaseFeaturesExtractor, create_mlp\n",
    "\n",
    "class NoTransactionBandNet(BaseFeaturesExtractor):\n",
    "    def __init__(self,\n",
    "                 observation_space: gym.Space,\n",
    "                 in_features:int,\n",
    "                 net_arch: List[int]=None,\n",
    "                 activation_fn: Type[nn.Module] = nn.ReLU):\n",
    "        super(NoTransactionBandNet, self).__init__()\n",
    "\n",
    "        if net_arch is None:\n",
    "            net_arch = [32, 32, 32, 32]\n",
    "\n",
    "        self.mlp_layer = create_mlp(in_features, 2, net_arch, activation_fn=activation_fn)\n",
    "\n",
    "    def forward(self, observation: th.Tensor):\n",
    "        log_moneyness = observation['price'].log()\n",
    "        time_expiry = observation['time_expiry']\n",
    "        volatility = observation['volatility']\n",
    "        prev_positions = observation['prev_positions']\n",
    "\n",
    "        no_cost_delta = european_option_delta(log_moneyness, time_expiry, volatility)\n",
    "\n",
    "        x = th.transpose(th.vstack([log_moneyness, time_expiry, volatility]), 0, 1)\n",
    "\n",
    "        band_width = self.mlp_layer(x)\n",
    "        lb_delta = no_cost_delta - F.leaky_relu(band_width[:, 0])\n",
    "        ub_delta = no_cost_delta + F.leaky_relu(band_width[:, 1])\n",
    "\n",
    "        hedge = clamp(prev_positions, lb_delta, ub_delta)\n",
    "\n",
    "        return hedge"
   ]
  },
  {
   "cell_type": "code",
   "execution_count": 44,
   "metadata": {},
   "outputs": [],
   "source": [
    "class FFNet(BaseFeaturesExtractor):\n",
    "    def __init__(self,\n",
    "                 observation_space: gym.Space,\n",
    "                 in_features: int,\n",
    "                 net_arch: List[int]=None,\n",
    "                 activation_fn: Type[nn.Module] = nn.ReLU):\n",
    "        super(FFNet, self).__init__()\n",
    "\n",
    "        if net_arch is None:\n",
    "            net_arch = [32, 32, 32, 32]\n",
    "\n",
    "        self.mlp_layer = create_mlp(in_features + 1, 1, net_arch, activation_fn=activation_fn)\n",
    "\n",
    "    def forward(self, observation: th.Tensor):\n",
    "        log_moneyness = observation['price'].log()\n",
    "        time_expiry = observation['time_expiry']\n",
    "        volatility = observation['volatility']\n",
    "        prev_positions = observation['prev_positions']\n",
    "\n",
    "        no_cost_delta = european_option_delta(log_moneyness, time_expiry, volatility)\n",
    "\n",
    "        x = th.transpose(th.vstack([log_moneyness, time_expiry, volatility, prev_positions]), 0, 1)\n",
    "        x = self.mlp_layer(x).reshape(-1)\n",
    "        x = th.tanh(x)\n",
    "\n",
    "        hedge = no_cost_delta + x\n",
    "\n",
    "        return hedge"
   ]
  },
  {
   "cell_type": "markdown",
   "source": [
    "## Env Test"
   ],
   "metadata": {
    "collapsed": false
   }
  },
  {
   "cell_type": "code",
   "execution_count": 40,
   "outputs": [
    {
     "ename": "AttributeError",
     "evalue": "'BSMarket' object has no attribute 'prices'",
     "output_type": "error",
     "traceback": [
      "\u001B[1;31m---------------------------------------------------------------------------\u001B[0m",
      "\u001B[1;31mAttributeError\u001B[0m                            Traceback (most recent call last)",
      "Input \u001B[1;32mIn [40]\u001B[0m, in \u001B[0;36m<cell line: 21>\u001B[1;34m()\u001B[0m\n\u001B[0;32m      1\u001B[0m \u001B[38;5;28;01mfrom\u001B[39;00m \u001B[38;5;21;01mstable_baselines3\u001B[39;00m\u001B[38;5;21;01m.\u001B[39;00m\u001B[38;5;21;01mcommon\u001B[39;00m\u001B[38;5;21;01m.\u001B[39;00m\u001B[38;5;21;01menv_checker\u001B[39;00m \u001B[38;5;28;01mimport\u001B[39;00m check_env\n\u001B[0;32m      3\u001B[0m env_config_1 \u001B[38;5;241m=\u001B[39m {\n\u001B[0;32m      4\u001B[0m     \u001B[38;5;124m'\u001B[39m\u001B[38;5;124mn_assets\u001B[39m\u001B[38;5;124m'\u001B[39m : \u001B[38;5;241m5\u001B[39m,\n\u001B[0;32m      5\u001B[0m     \u001B[38;5;124m'\u001B[39m\u001B[38;5;124mcost\u001B[39m\u001B[38;5;124m'\u001B[39m: \u001B[38;5;241m1e-3\u001B[39m,\n\u001B[1;32m   (...)\u001B[0m\n\u001B[0;32m     18\u001B[0m     }\n\u001B[0;32m     19\u001B[0m }\n\u001B[1;32m---> 21\u001B[0m env \u001B[38;5;241m=\u001B[39m \u001B[43mBSMarket\u001B[49m\u001B[43m(\u001B[49m\u001B[38;5;241;43m*\u001B[39;49m\u001B[38;5;241;43m*\u001B[39;49m\u001B[43menv_config_1\u001B[49m\u001B[43m)\u001B[49m\n\u001B[0;32m     22\u001B[0m check_env(env)\n",
      "Input \u001B[1;32mIn [37]\u001B[0m, in \u001B[0;36mBSMarket.__init__\u001B[1;34m(self, n_assets, cost, payoff, payoff_kwargs, maturity, dt, hedge_initialize, gen_name, gen_kwargs)\u001B[0m\n\u001B[0;32m     20\u001B[0m \u001B[38;5;28mself\u001B[39m\u001B[38;5;241m.\u001B[39mtransaction_cost \u001B[38;5;241m=\u001B[39m cost\n\u001B[0;32m     21\u001B[0m \u001B[38;5;28mself\u001B[39m\u001B[38;5;241m.\u001B[39mpayoff_kwargs \u001B[38;5;241m=\u001B[39m payoff_kwargs\n\u001B[1;32m---> 22\u001B[0m \u001B[38;5;28mself\u001B[39m\u001B[38;5;241m.\u001B[39mpayoff \u001B[38;5;241m=\u001B[39m \u001B[38;5;28;43mself\u001B[39;49m\u001B[38;5;241;43m.\u001B[39;49m\u001B[43mget_payoff_fn\u001B[49m\u001B[43m(\u001B[49m\u001B[43mpayoff\u001B[49m\u001B[43m)\u001B[49m\n\u001B[0;32m     23\u001B[0m \u001B[38;5;28mself\u001B[39m\u001B[38;5;241m.\u001B[39mmaturity \u001B[38;5;241m=\u001B[39m maturity\n\u001B[0;32m     24\u001B[0m \u001B[38;5;28mself\u001B[39m\u001B[38;5;241m.\u001B[39mdt \u001B[38;5;241m=\u001B[39m dt\n",
      "Input \u001B[1;32mIn [37]\u001B[0m, in \u001B[0;36mBSMarket.get_payoff_fn\u001B[1;34m(self, payoff_name)\u001B[0m\n\u001B[0;32m    100\u001B[0m strike \u001B[38;5;241m=\u001B[39m \u001B[38;5;28mself\u001B[39m\u001B[38;5;241m.\u001B[39mpayoff_kwargs\u001B[38;5;241m.\u001B[39mget(\u001B[38;5;124m'\u001B[39m\u001B[38;5;124mstrike\u001B[39m\u001B[38;5;124m'\u001B[39m, \u001B[38;5;241m1.0\u001B[39m)\n\u001B[0;32m    101\u001B[0m \u001B[38;5;28;01mif\u001B[39;00m payoff_name \u001B[38;5;241m==\u001B[39m \u001B[38;5;124m\"\u001B[39m\u001B[38;5;124meuropean\u001B[39m\u001B[38;5;124m\"\u001B[39m:\n\u001B[1;32m--> 102\u001B[0m     \u001B[38;5;28;01mreturn\u001B[39;00m np\u001B[38;5;241m.\u001B[39mclip(\u001B[38;5;28;43mself\u001B[39;49m\u001B[38;5;241;43m.\u001B[39;49m\u001B[43mprices\u001B[49m[\u001B[38;5;28mself\u001B[39m\u001B[38;5;241m.\u001B[39mnow] \u001B[38;5;241m-\u001B[39m strike, \u001B[38;5;241m0\u001B[39m, np\u001B[38;5;241m.\u001B[39minf)\n\u001B[0;32m    104\u001B[0m \u001B[38;5;28;01melif\u001B[39;00m payoff_name \u001B[38;5;241m==\u001B[39m \u001B[38;5;124m\"\u001B[39m\u001B[38;5;124mlookback\u001B[39m\u001B[38;5;124m\"\u001B[39m:\n\u001B[0;32m    105\u001B[0m     \u001B[38;5;28;01mreturn\u001B[39;00m np\u001B[38;5;241m.\u001B[39mclip(np\u001B[38;5;241m.\u001B[39mmax(\u001B[38;5;28mself\u001B[39m\u001B[38;5;241m.\u001B[39mprices, axis\u001B[38;5;241m=\u001B[39m\u001B[38;5;241m0\u001B[39m) \u001B[38;5;241m-\u001B[39m strike, \u001B[38;5;241m0\u001B[39m, np\u001B[38;5;241m.\u001B[39minf)\n",
      "\u001B[1;31mAttributeError\u001B[0m: 'BSMarket' object has no attribute 'prices'"
     ]
    }
   ],
   "source": [
    "from stable_baselines3.common.env_checker import check_env\n",
    "\n",
    "env_config_1 = {\n",
    "    'n_assets' : 5,\n",
    "    'cost': 1e-3,\n",
    "    'payoff': 'european',\n",
    "    'payoff_kwargs': {\n",
    "        'strike': 1.0\n",
    "    },\n",
    "    'maturity': 30,\n",
    "    'dt': 1/365,\n",
    "    'hedge_initialize': 'zero',\n",
    "    'gen_name': 'gbm',\n",
    "    'gen_kwargs': {\n",
    "        'drift': 0.0,\n",
    "        'volatility': 0.2,\n",
    "        'initial_price': 1.0\n",
    "    }\n",
    "}\n",
    "\n",
    "env = BSMarket(**env_config_1)\n",
    "check_env(env)"
   ],
   "metadata": {
    "collapsed": false,
    "pycharm": {
     "name": "#%%\n"
    }
   }
  },
  {
   "cell_type": "code",
   "execution_count": null,
   "outputs": [],
   "source": [],
   "metadata": {
    "collapsed": false,
    "pycharm": {
     "name": "#%%\n"
    }
   }
  }
 ],
 "metadata": {
  "interpreter": {
   "hash": "23b6ffb580d0ddd0926476f9fc1e2a52e74f8b39f4155c8283bd8dbd0ed12bb9"
  },
  "kernelspec": {
   "display_name": "Python 3.8.5 ('rl')",
   "language": "python",
   "name": "python3"
  },
  "language_info": {
   "codemirror_mode": {
    "name": "ipython",
    "version": 3
   },
   "file_extension": ".py",
   "mimetype": "text/x-python",
   "name": "python",
   "nbconvert_exporter": "python",
   "pygments_lexer": "ipython3",
   "version": "3.8.5"
  },
  "orig_nbformat": 4
 },
 "nbformat": 4,
 "nbformat_minor": 2
}